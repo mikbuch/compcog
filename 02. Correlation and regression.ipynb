{
 "cells": [
  {
   "cell_type": "markdown",
   "metadata": {},
   "source": [
    "# 02. Correlation and regression\n",
    "## Basic kowledge threshold\n",
    "This section silently assumes that descriptive statistics are known to the participant.\n",
    "\n",
    "After introductory statistics course we should also know what does the word_correlation_ stands for. Do we?\n",
    "\n",
    ">_Correlation_ is a mutual relationship or connection between two or more things.\n",
    ">\n",
    "> Etymologically, _correlation_, (from Latin: _cor_- ‘together’ + _relatio_ - relation) means that two things (entites, measures, observations, phenomena) are related to each other.\n",
    "> <div style=\"text-align: center\">Oxford Dictionaries</div>\n",
    "\n",
    "According to our common-sense statistics, acquired during previous courses, _correlation_ is a linear relationship between two quantitive variables. But this definition also applies to regression. What is the the difference between the two and, if given one of these measures/scores, are we able to infer the other?\n",
    "\n",
    "Best known example of correlation measure is Pearson's product-moment coefficient. It's formula is as follows:\n",
    "\\begin{equation*}\n",
    "\\rho _{X,Y}= corr(X,Y) = \\frac{cov(X,Y)}{\\sigma _X\\sigma _Y}\n",
    "\\end{equation*}"
   ]
  },
  {
   "cell_type": "code",
   "execution_count": 1,
   "metadata": {},
   "outputs": [
    {
     "data": {
      "text/plain": [
       "array([[1.        , 0.84753816],\n",
       "       [0.84753816, 1.        ]])"
      ]
     },
     "execution_count": 1,
     "metadata": {},
     "output_type": "execute_result"
    }
   ],
   "source": [
    "# Adapted from: http://benalexkeen.com/correlation-in-python/.\n",
    "import numpy as np\n",
    "\n",
    "np.random.seed(1)\n",
    "\n",
    "# Generate 100 random integers from range 0 to 100.\n",
    "x = np.random.randint(0, 100, 100)\n",
    "\n",
    "# Positive correlation with some noise.\n",
    "y = x + np.random.normal(0, 20, 100)\n",
    "\n",
    "# Get correlation score.\n",
    "np.corrcoef(x, y)"
   ]
  },
  {
   "cell_type": "markdown",
   "metadata": {},
   "source": [
    "## Statistical purism or social communication?\n",
    "Now is the time to present our data graphically.\n",
    "\n",
    "There are two types of people:\n",
    "* those, who calim that no matter what value ranges on both (or more) axes should be the same -- this prevents missinterpretation of the results;\n",
    "* other argue that for the sake of presentation, we may change the ratio between axes (given that the effect is present, i.e. we obtained statistically significant results).\n",
    "\n",
    "Both approaches has their advantages and disadvantages. The decision often depends on what is of a particular interest. Here values on both axes will be matched."
   ]
  },
  {
   "cell_type": "code",
   "execution_count": 2,
   "metadata": {},
   "outputs": [
    {
     "data": {
      "image/png": "[encoded data removed]",
      "text/plain": [
       "<Figure size 432x288 with 1 Axes>"
      ]
     },
     "metadata": {},
     "output_type": "display_data"
    }
   ],
   "source": [
    "# Adapted from: http://benalexkeen.com/correlation-in-python/.\n",
    "import matplotlib\n",
    "import matplotlib.pyplot as plt\n",
    "%matplotlib inline\n",
    "matplotlib.style.use('ggplot')\n",
    "\n",
    "plt.scatter(x, y)\n",
    "plt.xlim((-30, 130))\n",
    "plt.ylim((-30, 130))\n",
    "plt.xlabel('Variable X')\n",
    "plt.ylabel('Variable Y')\n",
    "plt.show()"
   ]
  }
 ],
 "metadata": {
  "kernelspec": {
   "display_name": "Python 3",
   "language": "python",
   "name": "python3"
  },
  "language_info": {
   "codemirror_mode": {
    "name": "ipython",
    "version": 3
   },
   "file_extension": ".py",
   "mimetype": "text/x-python",
   "name": "python",
   "nbconvert_exporter": "python",
   "pygments_lexer": "ipython3",
   "version": "3.6.7"
  }
 },
 "nbformat": 4,
 "nbformat_minor": 2
}
